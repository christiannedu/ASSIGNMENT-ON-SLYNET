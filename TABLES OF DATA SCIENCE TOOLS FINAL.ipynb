{
  "metadata": {
    "kernelspec": {
      "name": "python",
      "display_name": "Python (Pyodide)",
      "language": "python"
    },
    "language_info": {
      "codemirror_mode": {
        "name": "python",
        "version": 3
      },
      "file_extension": ".py",
      "mimetype": "text/x-python",
      "name": "python",
      "nbconvert_exporter": "python",
      "pygments_lexer": "ipython3",
      "version": "3.8"
    }
  },
  "nbformat_minor": 5,
  "nbformat": 4,
  "cells": [
    {
      "id": "7df3b390-6a30-4c24-acab-bffc9232cb88",
      "cell_type": "markdown",
      "source": "## Sure! Here’s a markdown cell with a table of popular Data Science tools:\n\n| Tool                | Description                                      | Language        |\n|---------------------|--------------------------------------------------|-----------------|\n| Jupyter Notebook    | An open-source web application for creating and sharing documents that contain live code, equations, visualizations, and narrative text. | Python |\n| RStudio            | An integrated development environment (IDE) for R, providing tools for plotting, history, and workspace management. | R |\n| Pandas             | A powerful data manipulation and analysis library for Python, providing data structures like DataFrames. | Python |\n| NumPy              | A library for the Python programming language that supports large, multi-dimensional arrays and matrices, along with a collection of mathematical functions. | Python|\n| Scikit-learn       | A machine learning library for Python that features various classification, regression, and clustering algorithms. | Python|\n| TensorFlow         | An open-source library for numerical computation and machine learning, developed by Google. | Python |\n| Keras              | A high-level neural networks API, written in Python and capable of running on top of TensorFlow. | Python           |\n| Apache Spark       | A unified analytics engine for big data processing, with built-in modules for streaming, SQL, machine learning, and graph processing. | Scala, Java, Python, R |\n| Tableau            | A data visualization tool that helps in simplifying raw data into an understandable format, graphs, and dashboards. | N/A |\n| Power BI           | A business analytics tool by Microsoft that provides interactive visualizations and business intelligence capabilities. | N/A |M",
      "metadata": {}
    },
    {
      "id": "5b5908e2-e39c-4ccb-a33f-d0361cf06238",
      "cell_type": "markdown",
      "source": "Table of Data Science Tools\n|..........||............||...|\n|1||2||3|\n|Matplotlib||Apache Spark||SAS|\n|Apache Hadoop||Project Jupyter||TensorFlow|M",
      "metadata": {}
    },
    {
      "id": "334ae406-595c-4728-a291-f68f9ee47f09",
      "cell_type": "markdown",
      "source": "Table of Data Science Tools\n|..........|\n|Matplotlib|\n|Apache Spark|\n|SAS|\n|TensorFlow|\n|Apache Hadoop|\n|Project Jupyter|M\n    \n\n    \n",
      "metadata": {}
    },
    {
      "id": "575d070c-1d62-46ee-ab9a-87b1226ee184",
      "cell_type": "code",
      "source": "",
      "metadata": {
        "trusted": true
      },
      "outputs": [],
      "execution_count": null
    },
    {
      "id": "9684bd8b-3c7c-456a-9db5-da083f34bb32",
      "cell_type": "code",
      "source": "",
      "metadata": {
        "trusted": true
      },
      "outputs": [],
      "execution_count": null
    }
  ]
}